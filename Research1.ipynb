{
 "cells": [
  {
   "cell_type": "code",
   "execution_count": 1,
   "metadata": {
    "collapsed": true
   },
   "outputs": [],
   "source": [
    "import pandas as pd\n",
    "import numpy as np\n",
    "import seaborn\n",
    "import matplotlib.pyplot as plt\n",
    "import os\n",
    "from Adaboost import Adaboost\n",
    "import scipy.stats\n",
    "% matplotlib inline"
   ]
  },
  {
   "cell_type": "code",
   "execution_count": 4,
   "metadata": {
    "collapsed": false
   },
   "outputs": [],
   "source": [
    "def diff_month(d1, d2):\n",
    "    return (d1.year - d2.year) * 12 + d1.month - d2.month\n",
    "\n",
    "MONTH_MARK =pd.Timestamp('2000-01-01')\n",
    "close = pd.read_csv('../SimulateTradeData/data/CLOSE.csv').set_index('Times')\n",
    "close.index = pd.to_datetime(close.index)\n",
    "close['month_num'] = [diff_month(x, MONTH_MARK) for x in close.index]\n",
    "daily_rtn = close.drop('month_num', axis=1).pct_change()\n",
    "daily_rtn['month_num'] = close.month_num.values"
   ]
  },
  {
   "cell_type": "code",
   "execution_count": 5,
   "metadata": {
    "collapsed": false
   },
   "outputs": [],
   "source": [
    "factors = ['CASHFLOW_TTM', 'EPS_TTM', 'MKT_CAP_ASHARE2', 'MKT_CAP_FLOAT', 'MKT_FREESHARES',\n",
    "           'PB', 'PCF_OCF_TTM', 'PE_TTM', 'ROA_TTM', 'ROE_TTM', 'TURN']\n",
    "\n",
    "factor_panel = dict()\n",
    "for factor in factors:\n",
    "    factor_df = pd.read_csv(os.path.join('../SimulateTradeData/data/', factor + '.csv'))\n",
    "    factor_df.Times = pd.to_datetime(factor_df.Times)\n",
    "    factor_df['month_num'] = [diff_month(x, MONTH_MARK)for x in factor_df.Times]\n",
    "    factor_df = factor_df.set_index('month_num')\n",
    "    factor_panel[factor] = factor_df\n",
    "factor_panel = pd.Panel(factor_panel)"
   ]
  },
  {
   "cell_type": "code",
   "execution_count": 6,
   "metadata": {
    "collapsed": false
   },
   "outputs": [],
   "source": [
    "rtn = close.resample('M', closed='right', label='left').first().pct_change()\n",
    "rtn['month_num'] = [diff_month(x, MONTH_MARK)for x in rtn.index]"
   ]
  },
  {
   "cell_type": "code",
   "execution_count": 7,
   "metadata": {
    "collapsed": false
   },
   "outputs": [
    {
     "name": "stdout",
     "output_type": "stream",
     "text": [
      "144\n",
      "145\n",
      "146\n",
      "147\n",
      "148\n",
      "149\n",
      "150\n",
      "151\n",
      "152\n",
      "153\n",
      "154\n",
      "155\n",
      "156\n"
     ]
    }
   ],
   "source": [
    "# 144\n",
    "to_buy_each_month = dict()\n",
    "for current_month in range(144, 144+13):\n",
    "    cond = (rtn['month_num'] < current_month) & (rtn['month_num'] >= current_month - 12)\n",
    "    training_period_months = rtn[cond]['month_num']\n",
    "    train_data = []\n",
    "\n",
    "    for month in training_period_months:\n",
    "        monthly_perf = rtn[rtn.month_num == month].ix[0].drop('month_num')\n",
    "\n",
    "        outperformers = monthly_perf[monthly_perf > monthly_perf.dropna().quantile(0.7)]\n",
    "        underperformers = monthly_perf[monthly_perf < monthly_perf.dropna().quantile(0.3)]\n",
    "\n",
    "        # notice that we need to use month - 1 because we are using the last month X to predict this month Y\n",
    "        monthly_outperf_factors = factor_panel[:,month - 1,outperformers.index]\n",
    "        monthly_underperf_factors = factor_panel[:,month - 1,underperformers.index]\n",
    "        monthly_factors = pd.concat([monthly_outperf_factors, monthly_underperf_factors])\n",
    "\n",
    "        monthly_y = [1 for _ in range(len(outperformers))] + [-1 for _ in range(len(underperformers))]\n",
    "\n",
    "        monthly_train_data = monthly_factors.copy()\n",
    "        monthly_train_data['y'] = monthly_y\n",
    "    \n",
    "        train_data.append(monthly_train_data)\n",
    "    \n",
    "    train_data = pd.concat(train_data)\n",
    "    \n",
    "    X1 = train_data[factors]\n",
    "    X1 = X1.fillna(X1.mean())\n",
    "    y1 = train_data.y.values\n",
    "    X1 = Adaboost.normalize_factor(X1)\n",
    "    \n",
    "    # last month training data\n",
    "    month = current_month - 1\n",
    "    monthly_perf = rtn[rtn.month_num == month].ix[0].drop('month_num')\n",
    "    outperformers = monthly_perf[monthly_perf > monthly_perf.dropna().quantile(0.7)]\n",
    "    underperformers = monthly_perf[monthly_perf < monthly_perf.dropna().quantile(0.3)]\n",
    "\n",
    "    # notice that we need to use month - 1 because we are using the last month X to predict this month Y\n",
    "    monthly_outperf_factors = factor_panel[:,month - 1,outperformers.index]\n",
    "    monthly_underperf_factors = factor_panel[:,month - 1,underperformers.index]\n",
    "    monthly_factors = pd.concat([monthly_outperf_factors, monthly_underperf_factors])\n",
    "\n",
    "    monthly_y = [1 for _ in range(len(outperformers))] + [-1 for _ in range(len(underperformers))]\n",
    "\n",
    "    monthly_train_data = monthly_factors.copy()\n",
    "    monthly_train_data['y'] = monthly_y\n",
    "\n",
    "    X2 = monthly_train_data[factors]\n",
    "    X2 = X2.fillna(X2.mean())\n",
    "    y2 = monthly_train_data.y.values\n",
    "    X2 = Adaboost.normalize_factor(X2)\n",
    "    \n",
    "    \n",
    "    \n",
    "    ada_long = Adaboost.Adaboost()\n",
    "    ada_short = Adaboost.Adaboost()\n",
    "    eAda = Adaboost.enhancedAda([ada_long, ada_short])\n",
    "    eAda.fit((X1, y1), (X2, y2))\n",
    "\n",
    "    y_test = rtn[rtn.month_num == current_month].ix[0].drop('month_num').dropna()\n",
    "    X_test = factor_panel[:,current_month - 1, y_test.index]\n",
    "    X_test = Adaboost.normalize_factor(X_test)\n",
    "\n",
    "    predictions = eAda.predict(X_test)\n",
    "\n",
    "\n",
    "    to_buy = y_test.index[predictions > np.percentile(predictions, 95)]\n",
    "    # returns_each_month = rtn[rtn.month_num == current_month][to_buy].mean(axis=1)\n",
    "    to_buy_each_month[current_month] = to_buy\n",
    "    print(current_month)"
   ]
  },
  {
   "cell_type": "code",
   "execution_count": 37,
   "metadata": {
    "collapsed": false
   },
   "outputs": [
    {
     "name": "stdout",
     "output_type": "stream",
     "text": [
      "144\n",
      "145\n",
      "146\n",
      "147\n",
      "148\n",
      "149\n",
      "150\n",
      "151\n",
      "152\n",
      "153\n",
      "154\n",
      "155\n",
      "156\n",
      "157\n",
      "158\n",
      "159\n",
      "160\n",
      "161\n",
      "162\n",
      "163\n",
      "164\n",
      "165\n",
      "166\n",
      "167\n",
      "168\n",
      "169\n",
      "170\n",
      "171\n",
      "172\n",
      "173\n",
      "174\n",
      "175\n",
      "176\n",
      "177\n",
      "178\n",
      "179\n",
      "180\n",
      "181\n",
      "182\n",
      "183\n",
      "184\n",
      "185\n",
      "186\n",
      "187\n",
      "188\n",
      "189\n",
      "190\n",
      "191\n",
      "192\n",
      "193\n",
      "194\n",
      "195\n",
      "196\n",
      "197\n",
      "198\n",
      "199\n",
      "200\n",
      "201\n",
      "202\n",
      "203\n",
      "204\n",
      "205\n",
      "206\n",
      "207\n",
      "208\n",
      "209\n",
      "210\n",
      "211\n"
     ]
    }
   ],
   "source": [
    "# 144\n",
    "to_buy_each_month = dict()\n",
    "for current_month in range(144, 212):\n",
    "    cond = (rtn['month_num'] < current_month) & (rtn['month_num'] >= current_month - 12)\n",
    "    training_period_months = rtn[cond]['month_num']\n",
    "\n",
    "    ada_clfs = []\n",
    "    for month in training_period_months:\n",
    "        monthly_perf = rtn[rtn.month_num == month].ix[0].drop('month_num')\n",
    "\n",
    "        outperformers = monthly_perf[monthly_perf > monthly_perf.dropna().quantile(0.7)]\n",
    "        underperformers = monthly_perf[monthly_perf < monthly_perf.dropna().quantile(0.3)]\n",
    "\n",
    "        # notice that we need to use month - 1 because we are using the last month X to predict this month Y\n",
    "        monthly_outperf_factors = factor_panel[:,month - 1,outperformers.index]\n",
    "        monthly_underperf_factors = factor_panel[:,month - 1,underperformers.index]\n",
    "        monthly_factors = pd.concat([monthly_outperf_factors, monthly_underperf_factors])\n",
    "\n",
    "        monthly_y = [1 for _ in range(len(outperformers))] + [-1 for _ in range(len(underperformers))]\n",
    "\n",
    "        monthly_train_data = monthly_factors.copy()\n",
    "        monthly_train_data['y'] = monthly_y\n",
    "\n",
    "\n",
    "        X = monthly_train_data[factors]\n",
    "        X = X.fillna(X.mean())\n",
    "        X = Adaboost.normalize_factor(X)\n",
    "        y = monthly_train_data.y.values\n",
    "        \n",
    "        ada = Adaboost.Adaboost()\n",
    "        ada.fit(X, y)\n",
    "        ada_clfs.append(ada)\n",
    "    \n",
    "    predictions = []\n",
    "    \n",
    "    \n",
    "    y_test = rtn[rtn.month_num == current_month].ix[0].drop('month_num').dropna()\n",
    "    X_test = factor_panel[:,current_month - 1, y_test.index]\n",
    "    X_test = Adaboost.normalize_factor(X_test)\n",
    "    \n",
    "    predictions = np.zeros(len(y_test))\n",
    "    for i, ada in enumerate(ada_clfs):\n",
    "        predictions += 1/len(ada_clfs) * ada.predict(X_test)\n",
    "\n",
    "\n",
    "    to_buy = y_test.index[predictions > np.percentile(predictions, 95)]\n",
    "    # returns_each_month = rtn[rtn.month_num == current_month][to_buy].mean(axis=1)\n",
    "    to_buy_each_month[current_month] = to_buy\n",
    "    print(current_month)"
   ]
  },
  {
   "cell_type": "code",
   "execution_count": 38,
   "metadata": {
    "collapsed": false
   },
   "outputs": [],
   "source": [
    "last_market_info = None\n",
    "first = True\n",
    "res = []\n",
    "transaction_cost = 0.5 / 100\n",
    "for i, month in enumerate(to_buy_each_month):\n",
    "    to_buy = to_buy_each_month[month]        \n",
    "    market_info = close[close.month_num == month][to_buy].pct_change().mean(axis=1).copy()\n",
    "    if first:\n",
    "        first = False\n",
    "    else:\n",
    "        reb_pnl = daily_rtn.ix[market_info.index[0]][last_to_buy].mean() - transaction_cost\n",
    "        market_info.ix[0] = reb_pnl\n",
    "    last_to_buy = to_buy\n",
    "    res.append(market_info)"
   ]
  },
  {
   "cell_type": "code",
   "execution_count": 39,
   "metadata": {
    "collapsed": false
   },
   "outputs": [],
   "source": [
    "res = pd.concat(res)"
   ]
  },
  {
   "cell_type": "code",
   "execution_count": 45,
   "metadata": {
    "collapsed": false
   },
   "outputs": [
    {
     "data": {
      "text/plain": [
       "2012-01-04         NaN\n",
       "2012-01-05   -0.035515\n",
       "2012-01-06    0.005657\n",
       "2012-01-09    0.038895\n",
       "2012-01-10    0.037480\n",
       "2012-01-11    0.001771\n",
       "2012-01-12    0.002230\n",
       "2012-01-13   -0.033369\n",
       "2012-01-16   -0.021549\n",
       "2012-01-17    0.048491\n",
       "2012-01-18   -0.013365\n",
       "2012-01-19    0.009433\n",
       "2012-01-20    0.011970\n",
       "2012-01-30   -0.003965\n",
       "2012-01-31    0.002627\n",
       "2012-02-01   -0.010784\n",
       "2012-02-02    0.014183\n",
       "2012-02-03    0.020498\n",
       "2012-02-06    0.011241\n",
       "2012-02-07   -0.018287\n",
       "2012-02-08    0.021765\n",
       "2012-02-09    0.005036\n",
       "2012-02-10    0.009488\n",
       "2012-02-13    0.007073\n",
       "2012-02-14    0.004608\n",
       "2012-02-15    0.020251\n",
       "2012-02-16    0.001297\n",
       "2012-02-17   -0.006034\n",
       "2012-02-20    0.000570\n",
       "2012-02-21    0.008217\n",
       "                ...   \n",
       "2017-07-21    0.002133\n",
       "2017-07-24    0.009489\n",
       "2017-07-25   -0.004888\n",
       "2017-07-26    0.002791\n",
       "2017-07-27    0.004066\n",
       "2017-07-28    0.000551\n",
       "2017-07-31    0.010520\n",
       "2017-08-01   -0.005342\n",
       "2017-08-02   -0.006402\n",
       "2017-08-03    0.003460\n",
       "2017-08-04    0.000066\n",
       "2017-08-07    0.006032\n",
       "2017-08-08    0.001818\n",
       "2017-08-09   -0.001202\n",
       "2017-08-10   -0.007518\n",
       "2017-08-11   -0.014494\n",
       "2017-08-14    0.012211\n",
       "2017-08-15    0.005445\n",
       "2017-08-16    0.002097\n",
       "2017-08-17    0.009947\n",
       "2017-08-18    0.003622\n",
       "2017-08-21    0.008453\n",
       "2017-08-22   -0.002867\n",
       "2017-08-23   -0.002330\n",
       "2017-08-24   -0.002951\n",
       "2017-08-25    0.014431\n",
       "2017-08-28    0.009037\n",
       "2017-08-29   -0.000516\n",
       "2017-08-30    0.002926\n",
       "2017-08-31    0.001557\n",
       "dtype: float64"
      ]
     },
     "execution_count": 45,
     "metadata": {},
     "output_type": "execute_result"
    }
   ],
   "source": [
    "res"
   ]
  },
  {
   "cell_type": "code",
   "execution_count": 40,
   "metadata": {
    "collapsed": false
   },
   "outputs": [
    {
     "data": {
      "text/plain": [
       "<matplotlib.axes._subplots.AxesSubplot at 0x1d49ffe24a8>"
      ]
     },
     "execution_count": 40,
     "metadata": {},
     "output_type": "execute_result"
    },
    {
     "data": {
      "image/png": "[encoded data removed]",
      "text/plain": [
       "<matplotlib.figure.Figure at 0x1d49fec3ba8>"
      ]
     },
     "metadata": {},
     "output_type": "display_data"
    }
   ],
   "source": [
    "(1+res).cumprod().plot()"
   ]
  },
  {
   "cell_type": "code",
   "execution_count": 46,
   "metadata": {
    "collapsed": false
   },
   "outputs": [
    {
     "name": "stdout",
     "output_type": "stream",
     "text": [
      "[Getting data:]######timed out\n",
      "###<urlopen error timed out>\n",
      "timed out\n",
      "#############"
     ]
    }
   ],
   "source": [
    "import tushare as ts\n",
    "zz500 = ts.get_h_data('000905', start='2012-01-04', end= '2017-08-31',index=True)\n",
    "zz500_rtn = zz500.sort_index().close.pct_change()\n",
    "zz500_rtn.index = pd.to_datetime(zz500_rtn.index)"
   ]
  },
  {
   "cell_type": "code",
   "execution_count": 41,
   "metadata": {
    "collapsed": false
   },
   "outputs": [],
   "source": [
    "res.index = res.index.date\n",
    "res.index = pd.to_datetime(res.index)"
   ]
  },
  {
   "cell_type": "code",
   "execution_count": 42,
   "metadata": {
    "collapsed": false
   },
   "outputs": [
    {
     "data": {
      "text/plain": [
       "<matplotlib.axes._subplots.AxesSubplot at 0x1d4a0046b70>"
      ]
     },
     "execution_count": 42,
     "metadata": {},
     "output_type": "execute_result"
    },
    {
     "data": {
      "image/png": "[encoded data removed]",
      "text/plain": [
       "<matplotlib.figure.Figure at 0x1d4a004dc88>"
      ]
     },
     "metadata": {},
     "output_type": "display_data"
    }
   ],
   "source": [
    "hedged = ((res - zz500_rtn)+1).cumprod()\n",
    "hedged.plot()"
   ]
  },
  {
   "cell_type": "code",
   "execution_count": 19,
   "metadata": {
    "collapsed": false
   },
   "outputs": [
    {
     "data": {
      "text/plain": [
       "0.16114331966791351"
      ]
     },
     "execution_count": 19,
     "metadata": {},
     "output_type": "execute_result"
    }
   ],
   "source": [
    "hedged.ix[-1] / 1 - 1"
   ]
  }
 ],
 "metadata": {
  "anaconda-cloud": {},
  "kernelspec": {
   "display_name": "Python [conda root]",
   "language": "python",
   "name": "conda-root-py"
  },
  "language_info": {
   "codemirror_mode": {
    "name": "ipython",
    "version": 3
   },
   "file_extension": ".py",
   "mimetype": "text/x-python",
   "name": "python",
   "nbconvert_exporter": "python",
   "pygments_lexer": "ipython3",
   "version": "3.5.2"
  }
 },
 "nbformat": 4,
 "nbformat_minor": 2
}
